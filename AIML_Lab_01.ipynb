{
  "nbformat": 4,
  "nbformat_minor": 0,
  "metadata": {
    "colab": {
      "provenance": [],
      "authorship_tag": "ABX9TyM7Q/oD7NzReASZ41QIiELf",
      "include_colab_link": true
    },
    "kernelspec": {
      "name": "python3",
      "display_name": "Python 3"
    },
    "language_info": {
      "name": "python"
    }
  },
  "cells": [
    {
      "cell_type": "markdown",
      "metadata": {
        "id": "view-in-github",
        "colab_type": "text"
      },
      "source": [
        "<a href=\"https://colab.research.google.com/github/KMadhu10/AIML_1374/blob/main/AIML_Lab_01.ipynb\" target=\"_parent\"><img src=\"https://colab.research.google.com/assets/colab-badge.svg\" alt=\"Open In Colab\"/></a>"
      ]
    },
    {
      "cell_type": "code",
      "execution_count": null,
      "metadata": {
        "id": "t2xyqcJ8EkNS"
      },
      "outputs": [],
      "source": []
    },
    {
      "cell_type": "markdown",
      "source": [
        "##Lab-1\n"
      ],
      "metadata": {
        "id": "e7B-imGUEo_F"
      }
    },
    {
      "cell_type": "code",
      "source": [],
      "metadata": {
        "id": "RAZBA09yE4AF"
      },
      "execution_count": null,
      "outputs": []
    },
    {
      "cell_type": "markdown",
      "source": [],
      "metadata": {
        "id": "PwSZkn7VE6EO"
      }
    },
    {
      "cell_type": "code",
      "source": [],
      "metadata": {
        "id": "QQAryb-FFQsN"
      },
      "execution_count": null,
      "outputs": []
    },
    {
      "cell_type": "markdown",
      "source": [
        "Part 01: Lab Task is implement the following data structures using Numpy and Pandas.**\n",
        "Lists\n",
        "Arrays\n",
        "Identify their type using type()\n",
        "Perform mathematical operations on these datasets created - multiplication, division, poweroff\n",
        "Combine text with Numpy fuction to generate a textual output - ”Addition of Two: array1 +array 2\n",
        "Implement np.sin(), log(), log2(), np.exp())\n"
      ],
      "metadata": {
        "id": "0Q_ON3UpFLHG"
      }
    },
    {
      "cell_type": "code",
      "source": [
        "import numpy as np\n",
        "lst1=[1,2,3]\n",
        "array1 = np.array(lst1)\n",
        "array1"
      ],
      "metadata": {
        "colab": {
          "base_uri": "https://localhost:8080/"
        },
        "id": "RHaR3tJ6FWBV",
        "outputId": "8b4a0456-1f6e-4fbc-d279-296f9f0d6de5"
      },
      "execution_count": 1,
      "outputs": [
        {
          "output_type": "execute_result",
          "data": {
            "text/plain": [
              "array([1, 2, 3])"
            ]
          },
          "metadata": {},
          "execution_count": 1
        }
      ]
    },
    {
      "cell_type": "code",
      "source": [
        "type(lst1)"
      ],
      "metadata": {
        "colab": {
          "base_uri": "https://localhost:8080/"
        },
        "id": "K79XJy9KFzDt",
        "outputId": "7331781d-ed75-4da5-961a-ad326220746f"
      },
      "execution_count": 2,
      "outputs": [
        {
          "output_type": "execute_result",
          "data": {
            "text/plain": [
              "list"
            ]
          },
          "metadata": {},
          "execution_count": 2
        }
      ]
    },
    {
      "cell_type": "code",
      "source": [
        "type(array1)"
      ],
      "metadata": {
        "colab": {
          "base_uri": "https://localhost:8080/"
        },
        "id": "1-NufJpGF6K-",
        "outputId": "f79be9b9-7349-45be-b7be-f7fbb16ce1a3"
      },
      "execution_count": 3,
      "outputs": [
        {
          "output_type": "execute_result",
          "data": {
            "text/plain": [
              "numpy.ndarray"
            ]
          },
          "metadata": {},
          "execution_count": 3
        }
      ]
    },
    {
      "cell_type": "markdown",
      "source": [],
      "metadata": {
        "id": "QzMlMzFBFrkd"
      }
    },
    {
      "cell_type": "markdown",
      "source": [
        "Perform Mathematical Operations on these datasets - Multiplication, Division, Poweroff"
      ],
      "metadata": {
        "id": "JaAVcYUkGAQ2"
      }
    },
    {
      "cell_type": "code",
      "source": [
        "list2=[3,2,1]\n",
        "array2=np.array(list2)\n",
        "array2"
      ],
      "metadata": {
        "colab": {
          "base_uri": "https://localhost:8080/"
        },
        "id": "csRo9L1pGD9G",
        "outputId": "54a4df90-5f07-4e1c-c608-4a287748b0d0"
      },
      "execution_count": 4,
      "outputs": [
        {
          "output_type": "execute_result",
          "data": {
            "text/plain": [
              "array([3, 2, 1])"
            ]
          },
          "metadata": {},
          "execution_count": 4
        }
      ]
    },
    {
      "cell_type": "code",
      "source": [
        "print(\"array2 multiplied by array1: \",array1*array2)\n",
        "print(\"array2 divided by array1: \",array2/array1)\n",
        "print(\"array2 raised to the power of array1: \",array2**array1)\n",
        "print(f\" {array2} raised to the power of {array1}:,{array2**array1}\")"
      ],
      "metadata": {
        "id": "bGLHCYaaGPHz",
        "outputId": "0a7edd06-2d45-4358-fbac-79ba996f1cd1",
        "colab": {
          "base_uri": "https://localhost:8080/"
        }
      },
      "execution_count": 5,
      "outputs": [
        {
          "output_type": "stream",
          "name": "stdout",
          "text": [
            "array2 multiplied by array1:  [3 4 3]\n",
            "array2 divided by array1:  [3.         1.         0.33333333]\n",
            "array2 raised to the power of array1:  [3 4 1]\n",
            " [3 2 1] raised to the power of [1 2 3]:,[3 4 1]\n"
          ]
        }
      ]
    },
    {
      "cell_type": "code",
      "source": [
        "print(\"array2 multiplied by array1: \",array1*array2)\n",
        "print(\"array2 divided by array1: \",array2/array1)\n",
        "print(\"array2 raised to the power of array1: \",array2**array1)\n",
        "print(f\" {array2} raised to the power of {array1}:,{array2**array1}\")"
      ],
      "metadata": {
        "id": "EsmSD_MKGZW1",
        "outputId": "c34e4a2c-6fc0-414e-c29f-3ecae6388cfe",
        "colab": {
          "base_uri": "https://localhost:8080/"
        }
      },
      "execution_count": 6,
      "outputs": [
        {
          "output_type": "stream",
          "name": "stdout",
          "text": [
            "array2 multiplied by array1:  [3 4 3]\n",
            "array2 divided by array1:  [3.         1.         0.33333333]\n",
            "array2 raised to the power of array1:  [3 4 1]\n",
            " [3 2 1] raised to the power of [1 2 3]:,[3 4 1]\n"
          ]
        }
      ]
    },
    {
      "cell_type": "code",
      "source": [
        "print(\"Sine: \",np.sin(array1))\n",
        "# logarithm\n",
        "print(\"Natural logarithm: \",np.log(array1))\n",
        "print(\"Base-10 logarithm: \",np.log10(array1))\n",
        "print(\"Base-2 logarithm: \",np.log2(array1))\n",
        "# Exponential\n",
        "print(\"Exponential: \",np.exp(array1))"
      ],
      "metadata": {
        "id": "Kclgg-l3GlVd",
        "outputId": "679972e9-9b5f-4495-b352-8b0bb1f0c53a",
        "colab": {
          "base_uri": "https://localhost:8080/"
        }
      },
      "execution_count": 7,
      "outputs": [
        {
          "output_type": "stream",
          "name": "stdout",
          "text": [
            "Sine:  [0.84147098 0.90929743 0.14112001]\n",
            "Natural logarithm:  [0.         0.69314718 1.09861229]\n",
            "Base-10 logarithm:  [0.         0.30103    0.47712125]\n",
            "Base-2 logarithm:  [0.        1.        1.5849625]\n",
            "Exponential:  [ 2.71828183  7.3890561  20.08553692]\n"
          ]
        }
      ]
    },
    {
      "cell_type": "code",
      "source": [
        "print(\"Adding two numpy arrays {array1} and {array2} together:\", array1+array2)"
      ],
      "metadata": {
        "id": "Q0gssRmFGp3u",
        "outputId": "1bff6ed6-41f5-4b54-8a8d-1167126a1073",
        "colab": {
          "base_uri": "https://localhost:8080/"
        }
      },
      "execution_count": 8,
      "outputs": [
        {
          "output_type": "stream",
          "name": "stdout",
          "text": [
            "Adding two numpy arrays {array1} and {array2} together: [4 4 4]\n"
          ]
        }
      ]
    },
    {
      "cell_type": "code",
      "source": [
        "print(f\"Adding two numpy arrays {array1} and {array2} together: {array1+array2}\")"
      ],
      "metadata": {
        "id": "vPoMly8mG5pt",
        "outputId": "92c7a5d7-93fa-40b1-d147-9b62b8a16f6e",
        "colab": {
          "base_uri": "https://localhost:8080/"
        }
      },
      "execution_count": 9,
      "outputs": [
        {
          "output_type": "stream",
          "name": "stdout",
          "text": [
            "Adding two numpy arrays [1 2 3] and [3 2 1] together: [4 4 4]\n"
          ]
        }
      ]
    },
    {
      "cell_type": "markdown",
      "source": [
        "Part-02: Lab Task is to visualize the datasets or data using Matplotlib\n",
        "builtin function Graphs\n",
        "Generate Scatterplot\n",
        "Let's suppose we collected age (in years), height (in cm), and weight (in kilograms) information from few patients visitng a clinic.\n",
        "\n",
        "\n",
        "[ ]\n"
      ],
      "metadata": {
        "id": "LYBSDii7HLom"
      }
    }
  ]
}