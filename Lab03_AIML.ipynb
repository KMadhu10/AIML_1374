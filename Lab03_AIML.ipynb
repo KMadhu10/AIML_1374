{
  "nbformat": 4,
  "nbformat_minor": 0,
  "metadata": {
    "colab": {
      "provenance": [],
      "authorship_tag": "ABX9TyMT4c2eWQpBjp1E+DLOzWGg",
      "include_colab_link": true
    },
    "kernelspec": {
      "name": "python3",
      "display_name": "Python 3"
    },
    "language_info": {
      "name": "python"
    }
  },
  "cells": [
    {
      "cell_type": "markdown",
      "metadata": {
        "id": "view-in-github",
        "colab_type": "text"
      },
      "source": [
        "<a href=\"https://colab.research.google.com/github/KMadhu10/AIML_1374/blob/main/Lab03_AIML.ipynb\" target=\"_parent\"><img src=\"https://colab.research.google.com/assets/colab-badge.svg\" alt=\"Open In Colab\"/></a>"
      ]
    },
    {
      "cell_type": "markdown",
      "source": [
        "1 . Implement the AI Game Stategy"
      ],
      "metadata": {
        "id": "ALuKTcqLJFja"
      }
    },
    {
      "cell_type": "code",
      "source": [
        "class Game:\n",
        "  def actions(self, state ):\n",
        "      \"\"\"Return a collection of the allowable moves from this state .\"\"\"\n",
        "      raise NotImplementedError\n",
        "  def result(self, state , move ):\n",
        "       \"\"\"Return the state that results from making a move from a state .\"\"\"\n",
        "       raise NotImplementedError\n",
        "  def is_terminal (self, state ):\n",
        "        \"\"\"Return True i f this is a final state for the game.\"\"\"\n",
        "        return not self.actions(state)\n",
        "  def utility(self, state , player ):\n",
        "       \"\"\"Return the value of this final state to player .\"\"\"\n",
        "       raise NotImplementedError"
      ],
      "metadata": {
        "id": "5-A6sY3tKZS5"
      },
      "execution_count": 5,
      "outputs": []
    },
    {
      "cell_type": "markdown",
      "source": [
        "Implement a Player Game using the Game Class Constructor"
      ],
      "metadata": {
        "id": "eYyVfrE0LRMW"
      }
    },
    {
      "cell_type": "code",
      "source": [
        "def play_game (game , strategies : dict , verbose=False ):\n",
        "    \"\"\"Play a turn−taking game. ‘strategies ‘ is a {player name: function} dict ,\n",
        "    where function(state , game) is used to get the player ’s move.\"\"\"\n",
        "    state = game.initial\n",
        "    while not game. is_terminal (state ):\n",
        "      player = state. to_move\n",
        "    move = strategies [player ](game , state)\n",
        "    state = game.result(state , move)\n",
        "    if verbose:\n",
        "       print('Player', player , 'move:', move)\n",
        "       print(state)\n",
        "       return state"
      ],
      "metadata": {
        "id": "K8rVpSHILj1e"
      },
      "execution_count": 6,
      "outputs": []
    },
    {
      "cell_type": "markdown",
      "source": [
        "part-2 Implement the Game Strategy Algoeithms."
      ],
      "metadata": {
        "id": "mQHLDotLMo9a"
      }
    },
    {
      "cell_type": "markdown",
      "source": [
        "1.Implement the MiniMax Search Algorithm"
      ],
      "metadata": {
        "id": "A7Hgob1ZMw01"
      }
    },
    {
      "cell_type": "code",
      "source": [
        "def minimax_search (game , state ):\n",
        "  \"\"\"Search game tree to determine best move; return (value , move) pair .\"\"\"\n",
        "  player = state. to_move\n",
        "  def max_value (state ):\n",
        "     if game. is_terminal (state ):\n",
        "      return game.utility(state , player), None\n",
        "  v, move = +infinity , None\n",
        "  for a in game.actions(state ):\n",
        "    v2 , = min_value (game.result(state , a))\n",
        "  if v2 > v:\n",
        "   v, move = v2 , a\n",
        "  return v, move\n",
        "  def min_value (state ):\n",
        "   if game. is_terminal (state ):\n",
        "     return game.utility(state , player), None\n",
        "  v, move = +infinity , None\n",
        "  for a in game.actions(state ):\n",
        "    v2 , = max_value (game.result(state , a))\n",
        "  if v2 < v:\n",
        "    v, move = v2 , a\n",
        "    return v, move\n",
        "    return max_value (state)\n",
        "  infinity = math.inf"
      ],
      "metadata": {
        "id": "xnF2rmSKM2GC"
      },
      "execution_count": 8,
      "outputs": []
    },
    {
      "cell_type": "markdown",
      "source": [
        "2. Implement the Alpha-Beta Search Algorithm"
      ],
      "metadata": {
        "id": "dpMpYnKcOCMZ"
      }
    },
    {
      "cell_type": "code",
      "source": [
        "def alphabeta search (game , state ):\n",
        "  ”””Search game to determine best action ; use alpha−beta pruning.\n",
        "  ””Search all the way to the leaves .”””\n",
        "  player = state. to move\n",
        "  def max value (state , alpha , beta ):\n",
        "  if game. is terminal (state ):\n",
        "  return game.utility(state , player), None\n",
        "  v, move = −infinity , None\n",
        "  for a in game.actions(state ):\n",
        "  v2 , = min value (game.result(state , a), alpha , beta)\n",
        "  if v2 > v:\n",
        "  v, move = v2 , a\n",
        "  alpha = max(alpha , v)\n",
        "  if v >= beta:\n",
        "  return v, move\n",
        "  return v, move\n",
        "  def min value (state , alpha , beta ):\n",
        "  if game. is terminal (state ):\n",
        "  return game.utility(state , player), None\n",
        "  v, move = +infinity , None\n",
        "  for a in game.actions(state ):\n",
        "  v2 , = max value (game.result(state , a), alpha , beta)\n",
        "  if v2 < v:\n",
        "  v, move = v2 , a\n",
        "  beta = min(beta , v)\n",
        "  if v <= alpha:\n",
        "  return v, move\n",
        "  return v, move\n",
        "  return max value (state , −infinity , +infinity )\n",
        ""
      ],
      "metadata": {
        "id": "FO5GogWsOQPz"
      },
      "execution_count": null,
      "outputs": []
    }
  ]
}